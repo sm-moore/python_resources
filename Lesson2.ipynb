{
 "cells": [
  {
   "cell_type": "code",
   "execution_count": null,
   "metadata": {},
   "outputs": [],
   "source": [
    "# import turtle\n",
    "\n",
    "# # Window Setup\n",
    "# wn = turtle.Screen()\n",
    "# wn.bgcolor(\"lightgreen\")\n",
    "# wn.title(\"Tess & Alex\")\n",
    "# # Alex\n",
    "# alex = turtle.Turtle()\n",
    "# alex.shape(\"turtle\")\n",
    "# alex.color(\"green\")\n",
    "\n",
    "# for c in [\"yellow\", \"red\", \"purple\", \"blue\"]:\n",
    "#     alex.color(c)\n",
    "#     alex.forward(50)\n",
    "#     alex.left(90)\n",
    "\n",
    "# # Tess\n",
    "# tess = turtle.Turtle()\n",
    "# tess.shape(\"turtle\")\n",
    "# tess.color(\"blue\")\n",
    "\n",
    "# tess.penup()\n",
    "# size = 20\n",
    "# for i in range(30):\n",
    "#    tess.stamp()\n",
    "#    size = size + 3\n",
    "#    tess.forward(size)\n",
    "#    tess.right(24)\n",
    "# wn.mainloop()"
   ]
  },
  {
   "cell_type": "code",
   "execution_count": 13,
   "metadata": {},
   "outputs": [
    {
     "name": "stdout",
     "output_type": "stream",
     "text": [
      "done\n",
      "['eggs', 'bread', 'done']\n"
     ]
    }
   ],
   "source": [
    "grocery_item = ''\n",
    "grocery_items = ['eggs', 'bread']\n",
    "while grocery_item != 'done':\n",
    "    grocery_item = input()\n",
    "#     Don't add done to the list\n",
    "    grocery_items.append(grocery_item)\n",
    "print(grocery_items)\n",
    "# Try sorting the list\n",
    "\n",
    "# Try doing it with a for loop instead\n",
    "\n",
    "# Remove duplicates from the list\n",
    "\n",
    "# Turn this into a function.\n",
    "# def create_grocery_list():\n",
    "#     ...your code here..."
   ]
  },
  {
   "cell_type": "code",
   "execution_count": 15,
   "metadata": {},
   "outputs": [
    {
     "data": {
      "text/plain": [
       "['hi', 5]"
      ]
     },
     "execution_count": 15,
     "metadata": {},
     "output_type": "execute_result"
    }
   ],
   "source": [
    "grocery = ['hi', 5]\n",
    "grocery"
   ]
  },
  {
   "cell_type": "code",
   "execution_count": null,
   "metadata": {},
   "outputs": [],
   "source": []
  }
 ],
 "metadata": {
  "kernelspec": {
   "display_name": "Python 3",
   "language": "python",
   "name": "python3"
  },
  "language_info": {
   "codemirror_mode": {
    "name": "ipython",
    "version": 3
   },
   "file_extension": ".py",
   "mimetype": "text/x-python",
   "name": "python",
   "nbconvert_exporter": "python",
   "pygments_lexer": "ipython3",
   "version": "3.6.10"
  }
 },
 "nbformat": 4,
 "nbformat_minor": 4
}
