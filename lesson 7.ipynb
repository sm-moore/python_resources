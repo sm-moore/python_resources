{
 "cells": [
  {
   "cell_type": "code",
   "execution_count": 66,
   "metadata": {},
   "outputs": [],
   "source": [
    "class Person():\n",
    "    def __init__(self, first_name, last_name, friends):\n",
    "        self.first_name = first_name\n",
    "        self.last_name = last_name\n",
    "        self.friends = friends\n",
    "    \n",
    "    def add_friend(self, friend):\n",
    "        self.friends.append(friend)\n",
    "    \n",
    "    def __add__(self, friend):\n",
    "        '''Overrides the + operator'''\n",
    "        self.add_friend(friend)\n",
    "    \n",
    "    def __eq__(self, friend):\n",
    "        '''Overrides the equals == operator'''\n",
    "        return self.first_name == friend.first_name and self.last_name == friend.last_name\n",
    "\n",
    "class Student(Person):\n",
    "     def __init__(self, classes, teachers):\n",
    "        self.classes = classes\n",
    "        self.teachers = teachers"
   ]
  },
  {
   "cell_type": "code",
   "execution_count": 67,
   "metadata": {},
   "outputs": [
    {
     "data": {
      "text/plain": [
       "['fiona']"
      ]
     },
     "execution_count": 67,
     "metadata": {},
     "output_type": "execute_result"
    }
   ],
   "source": [
    "sara = Person('sara', 'moore', [])\n",
    "sara + 'fiona'\n",
    "sara.friends"
   ]
  },
  {
   "cell_type": "code",
   "execution_count": null,
   "metadata": {},
   "outputs": [],
   "source": [
    "alex1 = Person('alex', 'gosch', [])\n",
    "alex2 = Person('alex', 'gosch', [])\n",
    "alex1 == alex2"
   ]
  },
  {
   "cell_type": "code",
   "execution_count": null,
   "metadata": {},
   "outputs": [],
   "source": []
  },
  {
   "cell_type": "code",
   "execution_count": null,
   "metadata": {},
   "outputs": [],
   "source": []
  }
 ],
 "metadata": {
  "kernelspec": {
   "display_name": "Python 3",
   "language": "python",
   "name": "python3"
  },
  "language_info": {
   "codemirror_mode": {
    "name": "ipython",
    "version": 3
   },
   "file_extension": ".py",
   "mimetype": "text/x-python",
   "name": "python",
   "nbconvert_exporter": "python",
   "pygments_lexer": "ipython3",
   "version": "3.6.10"
  }
 },
 "nbformat": 4,
 "nbformat_minor": 4
}
