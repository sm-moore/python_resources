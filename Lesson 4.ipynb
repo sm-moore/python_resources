{
 "cells": [
  {
   "cell_type": "code",
   "execution_count": 2,
   "metadata": {},
   "outputs": [],
   "source": [
    "import pandas as pd\n",
    "\n",
    "inventory_df = pd.read_csv('Grocery Inventory.csv')\n",
    "# For now let's ignore all of the organic brands so that there is only one brand.\n",
    "# This means that the 'Item' column is unique.\n",
    "inventory_df = inventory_df.drop(inventory_df[inventory_df.Brand == 'Organic'].index) # TODO: Explain the index here.\n",
    "\n",
    "# list_df = pd.read_csv('Grocery List.csv').reset_index(drop=True)\n",
    "grocery_list = [('Red Apple', 2),\n",
    "                ('Strawberry', 1),\n",
    "                ('Banana', 6),\n",
    "                ('Whole Wheat Bread', 1),\n",
    "                ('Tofu', 1),\n",
    "                ('Oat Milk', 2),\n",
    "                ('Spaghetti ', 1)]"
   ]
  },
  {
   "cell_type": "code",
   "execution_count": 96,
   "metadata": {},
   "outputs": [],
   "source": [
    "def detailed_grocery_list(inventory, grocery_list):\n",
    "# Start by ignoring inventory and just formatting grocery list\n",
    "\n",
    "    detailed_grocery_list = [] # This could just be a dictonary too. Is that less confusing?\n",
    "    for item, quantity in grocery_list:\n",
    "        detail = {'Item': item,\n",
    "                  'Brand': '',\n",
    "                  'Quantity Desired': quantity,\n",
    "                  'Cost Per Item': 0,\n",
    "                  'Department': ''}\n",
    "        detailed_grocery_list.append(detail)\n",
    "    return detailed_grocery_list\n",
    "\n",
    "# Add computing the cost so far.\n",
    "def detailed_grocery_list_v1(inventory, grocery_list):\n",
    "# Start by ignoring inventory and just formatting grocery list\n",
    "\n",
    "    detailed_grocery_list = [] # This could just be a dictonary too. Is that less confusing?\n",
    "    total_cost_so_far = 0\n",
    "    for item, quantity in grocery_list:\n",
    "        item_price = 0\n",
    "        detail = {'Item': item,\n",
    "                  'Brand': '',\n",
    "                  'Quantity Desired': quantity,\n",
    "                  'Cost Per Item': item_price,\n",
    "                  'Department': ''}\n",
    "        detailed_grocery_list.append(detail)\n",
    "        total_cost_so_far = total_cost_so_far + quantity + item_price\n",
    "    return detailed_grocery_list, total_cost_so_far\n",
    "\n",
    "\n",
    "# Several ways to do this... using pandas dataframe functions, using a dictonary, and other ways too.\n",
    "\n",
    "def detailed_grocery_list_v2(inventory, grocery_list):\n",
    "# Using dictionary\n",
    "    inventory_dict = to_dictionary_v2(inventory)\n",
    "    detailed_grocery_list = []\n",
    "    total_cost_so_far = 0\n",
    "    for item, quantity in grocery_list:\n",
    "        inventory_item = inventory_dict[item]\n",
    "        detail = {'Item': item,\n",
    "                  'Brand': inventory_item['Brand'],\n",
    "                  'Quantity Desired': quantity,\n",
    "                  'Cost Per Item': inventory_item['Price'],\n",
    "                  'Department': inventory_item['Department']}\n",
    "        detailed_grocery_list.append(detail)\n",
    "        total_cost_so_far += inventory_item['Price'] * quantity\n",
    "    return detailed_grocery_list, total_cost_so_far\n",
    "\n",
    "def detailed_grocery_list_v3(inventory, grocery_list):\n",
    "# Using Pandas Functions\n",
    "    detailed_grocery_list = []\n",
    "    total_cost_so_far = 0\n",
    "    for item, quantity in grocery_list:\n",
    "#         There's a lot to unpack here... let's break it up.\n",
    "        inventory_item = inventory.loc[inventory[inventory['Item'] == item].index]\n",
    "        detail = {'Item': item,\n",
    "                  'Brand': inventory_item['Brand'].values[0],\n",
    "                  'Quantity Desired': quantity,\n",
    "                  'Cost Per Item': inventory_item['Price'].values[0],\n",
    "                  'Department': inventory_item['Department'].values[0]}\n",
    "        detailed_grocery_list.append(detail)\n",
    "        total_cost_so_far += inventory_item['Price'].values[0] * quantity\n",
    "    return detailed_grocery_list, total_cost_so_far"
   ]
  },
  {
   "cell_type": "code",
   "execution_count": 45,
   "metadata": {},
   "outputs": [],
   "source": [
    "def _element(row):\n",
    "    return (row['Item'], {'Department': row['Department'], 'Brand': row['Brand'], 'Price': row['Price']})\n",
    "\n",
    "def to_dictionary(df):\n",
    "#     Could we make this generic to all dataframes?\n",
    "    final = {}\n",
    "    for i in range(len(df)):\n",
    "        item, info = _element(df.loc[i])\n",
    "        final[item] = info\n",
    "    return final\n",
    "\n",
    "def to_dictionary_v2(df):\n",
    "    return df.set_index('Item').to_dict('index')\n",
    "    "
   ]
  },
  {
   "cell_type": "code",
   "execution_count": 106,
   "metadata": {},
   "outputs": [
    {
     "data": {
      "text/plain": [
       "Int64Index([2], dtype='int64')"
      ]
     },
     "execution_count": 106,
     "metadata": {},
     "output_type": "execute_result"
    }
   ],
   "source": [
    "detailed_grocery_list_v3(inventory_df, grocery_list)\n",
    "inventory_df.iloc[0]\n",
    "inventory_df[inventory_df['Item'] == 'Green Apple'].index"
   ]
  },
  {
   "cell_type": "code",
   "execution_count": 53,
   "metadata": {},
   "outputs": [
    {
     "data": {
      "text/plain": [
       "True"
      ]
     },
     "execution_count": 53,
     "metadata": {},
     "output_type": "execute_result"
    }
   ],
   "source": [
    "list(to_dictionary(inventory_df).keys()).sort() == list(to_dictionary_v2(inventory_df).keys()).sort()"
   ]
  },
  {
   "cell_type": "code",
   "execution_count": 41,
   "metadata": {},
   "outputs": [
    {
     "data": {
      "text/plain": [
       "{'Red Apple': {'Brand': 'Store', 'Department': 'Prodce', 'Price': 0.75},\n",
       " 'Green Apple': {'Brand': 'Store', 'Department': 'Produce', 'Price': 0.75},\n",
       " 'Orange': {'Brand': 'Store', 'Department': 'Produce', 'Price': 0.75},\n",
       " 'Peach': {'Brand': 'Store', 'Department': 'Produce', 'Price': 0.75},\n",
       " 'Pear': {'Brand': 'Store', 'Department': 'Produce', 'Price': 0.75},\n",
       " 'Lemon': {'Brand': 'Store', 'Department': 'Produce', 'Price': 0.25},\n",
       " 'Lime': {'Brand': 'Store', 'Department': 'Produce', 'Price': 0.25},\n",
       " 'Yellow Onion': {'Brand': 'Store', 'Department': 'Produce', 'Price': 0.5},\n",
       " 'Red Onion': {'Brand': 'Store', 'Department': 'Produce', 'Price': 0.5},\n",
       " 'White Onion': {'Brand': 'Store', 'Department': 'Produce', 'Price': 0.5},\n",
       " 'Green Onion': {'Brand': 'Store', 'Department': 'Produce', 'Price': 0.5},\n",
       " 'Russett Potato': {'Brand': 'Store', 'Department': 'Produce', 'Price': 0.25},\n",
       " 'Red Potato': {'Brand': 'Store', 'Department': 'Produce', 'Price': 0.25},\n",
       " 'Golden Potato': {'Brand': 'Store', 'Department': 'Produce', 'Price': 0.25},\n",
       " 'Strawberry': {'Brand': 'Store', 'Department': 'Produce', 'Price': 4.0},\n",
       " 'Blueberry': {'Brand': 'Store', 'Department': 'Produce', 'Price': 4.0},\n",
       " 'Spinach': {'Brand': 'Store', 'Department': 'Produce', 'Price': 1.5},\n",
       " 'Collard Greens': {'Brand': 'Store', 'Department': 'Produce', 'Price': 1.0},\n",
       " 'Kale': {'Brand': 'Store', 'Department': 'Produce', 'Price': 1.0},\n",
       " 'Romaine': {'Brand': 'Store', 'Department': 'Produce', 'Price': 1.0},\n",
       " 'Red Bell Pepper': {'Brand': 'Store', 'Department': 'Produce', 'Price': 1.0},\n",
       " 'Yellow Bell Pepper': {'Brand': 'Store',\n",
       "  'Department': 'Produce',\n",
       "  'Price': 1.0},\n",
       " 'Orange Bell Pepper': {'Brand': 'Store',\n",
       "  'Department': 'Produce',\n",
       "  'Price': 1.0},\n",
       " 'Green Bell Pepper': {'Brand': 'Store',\n",
       "  'Department': 'Produce',\n",
       "  'Price': 1.0},\n",
       " 'Banana': {'Brand': 'Store', 'Department': 'Produce', 'Price': 1.0},\n",
       " 'Chicken Breast': {'Brand': 'Store', 'Department': 'Meat', 'Price': 4.0},\n",
       " 'Chicken Tenders': {'Brand': 'Store', 'Department': 'Meat', 'Price': 5.0},\n",
       " 'Chicken Wings': {'Brand': 'Store', 'Department': 'Meat', 'Price': 3.0},\n",
       " 'Whole Chicken': {'Brand': 'Store', 'Department': 'Meat', 'Price': 6.0},\n",
       " 'Baccon': {'Brand': 'Store', 'Department': 'Meat', 'Price': 5.0},\n",
       " 'Breakfast Sausage': {'Brand': 'Store', 'Department': 'Meat', 'Price': 5.0},\n",
       " 'Ham': {'Brand': 'Store', 'Department': 'Meat', 'Price': 5.0},\n",
       " 'Flank Steak': {'Brand': 'Store', 'Department': 'Meat', 'Price': 4.0},\n",
       " 'Ribeye': {'Brand': 'Store', 'Department': 'Meat', 'Price': 9.0},\n",
       " 'Fillet': {'Brand': 'Store', 'Department': 'Meat', 'Price': 18.0},\n",
       " 'Ground Beef': {'Brand': 'Store', 'Department': 'Meat', 'Price': 4.0},\n",
       " 'Ground Turkey': {'Brand': 'Store', 'Department': 'Meat', 'Price': 6.0},\n",
       " 'Whole Turkey': {'Brand': 'Store', 'Department': 'Meat', 'Price': 15.0},\n",
       " 'Bread': {'Brand': 'Store', 'Department': 'Bakery', 'Price': 3.0},\n",
       " 'Whole Wheat Bread': {'Brand': 'Store', 'Department': 'Bakery', 'Price': 3.0},\n",
       " 'Hot Dog Buns': {'Brand': 'Store', 'Department': 'Bakery', 'Price': 3.0},\n",
       " 'Hamburger Buns': {'Brand': 'Store', 'Department': 'Bakery', 'Price': 3.0},\n",
       " 'Bagels': {'Brand': 'Store', 'Department': 'Bakery', 'Price': 4.0},\n",
       " 'Everything Bagels': {'Brand': 'Store', 'Department': 'Bakery', 'Price': 4.0},\n",
       " 'Muffins': {'Brand': 'Store', 'Department': 'Bakery', 'Price': 3.5},\n",
       " 'English Muffins': {'Brand': 'Store', 'Department': 'Bakery', 'Price': 3.5},\n",
       " 'Eggs': {'Brand': 'Store', 'Department': 'Dairy', 'Price': 2.0},\n",
       " 'Brown Eggs': {'Brand': 'Store', 'Department': 'Dairy', 'Price': 2.5},\n",
       " 'Greek Yogurt': {'Brand': 'Store', 'Department': 'Dairy', 'Price': 3.25},\n",
       " 'Yogurt': {'Brand': 'Store', 'Department': 'Dairy', 'Price': 3.0},\n",
       " 'Whole Milk': {'Brand': 'Store', 'Department': 'Dairy', 'Price': 4.0},\n",
       " 'Skim Milk': {'Brand': 'Store', 'Department': 'Dairy', 'Price': 4.0},\n",
       " 'Oat Milk': {'Brand': 'Store', 'Department': 'Dairy', 'Price': 4.25},\n",
       " 'Soy Milk': {'Brand': 'Store', 'Department': 'Dairy', 'Price': 4.25},\n",
       " 'Almond Milk': {'Brand': 'Store', 'Department': 'Dairy', 'Price': 5.5},\n",
       " 'Chocolate Milk': {'Brand': 'Store', 'Department': 'Dairy', 'Price': 4.75},\n",
       " 'Cream': {'Brand': 'Store', 'Department': 'Dairy', 'Price': 3.5},\n",
       " 'Vanilla Coffee Cream': {'Brand': 'Store',\n",
       "  'Department': 'Dairy',\n",
       "  'Price': 4.0},\n",
       " 'Whipped Cream': {'Brand': 'Store', 'Department': 'Dairy', 'Price': 4.0},\n",
       " 'Spagahetti ': {'Brand': 'Store', 'Department': 'Shelves', 'Price': 2.0},\n",
       " 'Macaronni ': {'Brand': 'Store', 'Department': 'Shelves', 'Price': 2.5},\n",
       " 'Fetuchinni': {'Brand': 'Store', 'Department': 'Shelves', 'Price': 2.5},\n",
       " 'Penne': {'Brand': 'Store', 'Department': 'Shelves', 'Price': 1.75},\n",
       " 'Cereal': {'Brand': 'Store', 'Department': 'Shelves', 'Price': 1.75}}"
      ]
     },
     "execution_count": 41,
     "metadata": {},
     "output_type": "execute_result"
    }
   ],
   "source": [
    "df = inventory_df.drop(inventory_df[inventory_df.Brand == 'Organic'].index)\n",
    "df.set_index('Item').to_dict('index')"
   ]
  },
  {
   "cell_type": "code",
   "execution_count": 57,
   "metadata": {},
   "outputs": [
    {
     "data": {
      "text/plain": [
       "{'Red Apple': {'Brand': 'Store', 'Department': 'Prodce', 'Price': 0.75},\n",
       " 'Green Apple': {'Brand': 'Store', 'Department': 'Produce', 'Price': 0.75},\n",
       " 'Orange': {'Brand': 'Store', 'Department': 'Produce', 'Price': 0.75},\n",
       " 'Peach': {'Brand': 'Store', 'Department': 'Produce', 'Price': 0.75},\n",
       " 'Pear': {'Brand': 'Store', 'Department': 'Produce', 'Price': 0.75},\n",
       " 'Lemon': {'Brand': 'Store', 'Department': 'Produce', 'Price': 0.25},\n",
       " 'Lime': {'Brand': 'Store', 'Department': 'Produce', 'Price': 0.25},\n",
       " 'Yellow Onion': {'Brand': 'Store', 'Department': 'Produce', 'Price': 0.5},\n",
       " 'Red Onion': {'Brand': 'Store', 'Department': 'Produce', 'Price': 0.5},\n",
       " 'White Onion': {'Brand': 'Store', 'Department': 'Produce', 'Price': 0.5},\n",
       " 'Green Onion': {'Brand': 'Store', 'Department': 'Produce', 'Price': 0.5},\n",
       " 'Russett Potato': {'Brand': 'Store', 'Department': 'Produce', 'Price': 0.25},\n",
       " 'Red Potato': {'Brand': 'Store', 'Department': 'Produce', 'Price': 0.25},\n",
       " 'Golden Potato': {'Brand': 'Store', 'Department': 'Produce', 'Price': 0.25},\n",
       " 'Strawberry': {'Brand': 'Store', 'Department': 'Produce', 'Price': 4.0},\n",
       " 'Blueberry': {'Brand': 'Store', 'Department': 'Produce', 'Price': 4.0},\n",
       " 'Spinach': {'Brand': 'Store', 'Department': 'Produce', 'Price': 1.5},\n",
       " 'Collard Greens': {'Brand': 'Store', 'Department': 'Produce', 'Price': 1.0},\n",
       " 'Kale': {'Brand': 'Store', 'Department': 'Produce', 'Price': 1.0},\n",
       " 'Romaine': {'Brand': 'Store', 'Department': 'Produce', 'Price': 1.0},\n",
       " 'Red Bell Pepper': {'Brand': 'Store', 'Department': 'Produce', 'Price': 1.0},\n",
       " 'Yellow Bell Pepper': {'Brand': 'Store',\n",
       "  'Department': 'Produce',\n",
       "  'Price': 1.0},\n",
       " 'Orange Bell Pepper': {'Brand': 'Store',\n",
       "  'Department': 'Produce',\n",
       "  'Price': 1.0},\n",
       " 'Green Bell Pepper': {'Brand': 'Store',\n",
       "  'Department': 'Produce',\n",
       "  'Price': 1.0},\n",
       " 'Banana': {'Brand': 'Store', 'Department': 'Produce', 'Price': 1.0},\n",
       " 'Chicken Breast': {'Brand': 'Store', 'Department': 'Meat', 'Price': 4.0},\n",
       " 'Chicken Tenders': {'Brand': 'Store', 'Department': 'Meat', 'Price': 5.0},\n",
       " 'Chicken Wings': {'Brand': 'Store', 'Department': 'Meat', 'Price': 3.0},\n",
       " 'Whole Chicken': {'Brand': 'Store', 'Department': 'Meat', 'Price': 6.0},\n",
       " 'Baccon': {'Brand': 'Store', 'Department': 'Meat', 'Price': 5.0},\n",
       " 'Breakfast Sausage': {'Brand': 'Store', 'Department': 'Meat', 'Price': 5.0},\n",
       " 'Ham': {'Brand': 'Store', 'Department': 'Meat', 'Price': 5.0},\n",
       " 'Flank Steak': {'Brand': 'Store', 'Department': 'Meat', 'Price': 4.0},\n",
       " 'Ribeye': {'Brand': 'Store', 'Department': 'Meat', 'Price': 9.0},\n",
       " 'Fillet': {'Brand': 'Store', 'Department': 'Meat', 'Price': 18.0},\n",
       " 'Ground Beef': {'Brand': 'Store', 'Department': 'Meat', 'Price': 4.0},\n",
       " 'Ground Turkey': {'Brand': 'Store', 'Department': 'Meat', 'Price': 6.0},\n",
       " 'Whole Turkey': {'Brand': 'Store', 'Department': 'Meat', 'Price': 15.0},\n",
       " 'Bread': {'Brand': 'Store', 'Department': 'Bakery', 'Price': 3.0},\n",
       " 'Whole Wheat Bread': {'Brand': 'Store', 'Department': 'Bakery', 'Price': 3.0},\n",
       " 'Hot Dog Buns': {'Brand': 'Store', 'Department': 'Bakery', 'Price': 3.0},\n",
       " 'Hamburger Buns': {'Brand': 'Store', 'Department': 'Bakery', 'Price': 3.0},\n",
       " 'Bagels': {'Brand': 'Store', 'Department': 'Bakery', 'Price': 4.0},\n",
       " 'Everything Bagels': {'Brand': 'Store', 'Department': 'Bakery', 'Price': 4.0},\n",
       " 'Muffins': {'Brand': 'Store', 'Department': 'Bakery', 'Price': 3.5},\n",
       " 'English Muffins': {'Brand': 'Store', 'Department': 'Bakery', 'Price': 3.5},\n",
       " 'Eggs': {'Brand': 'Store', 'Department': 'Dairy', 'Price': 2.0},\n",
       " 'Brown Eggs': {'Brand': 'Store', 'Department': 'Dairy', 'Price': 2.5},\n",
       " 'Greek Yogurt': {'Brand': 'Store', 'Department': 'Dairy', 'Price': 3.25},\n",
       " 'Yogurt': {'Brand': 'Store', 'Department': 'Dairy', 'Price': 3.0},\n",
       " 'Whole Milk': {'Brand': 'Store', 'Department': 'Dairy', 'Price': 4.0},\n",
       " 'Skim Milk': {'Brand': 'Store', 'Department': 'Dairy', 'Price': 4.0},\n",
       " 'Oat Milk': {'Brand': 'Store', 'Department': 'Dairy', 'Price': 4.25},\n",
       " 'Soy Milk': {'Brand': 'Store', 'Department': 'Dairy', 'Price': 4.25},\n",
       " 'Almond Milk': {'Brand': 'Store', 'Department': 'Dairy', 'Price': 5.5},\n",
       " 'Chocolate Milk': {'Brand': 'Store', 'Department': 'Dairy', 'Price': 4.75},\n",
       " 'Cream': {'Brand': 'Store', 'Department': 'Dairy', 'Price': 3.5},\n",
       " 'Vanilla Coffee Cream': {'Brand': 'Store',\n",
       "  'Department': 'Dairy',\n",
       "  'Price': 4.0},\n",
       " 'Whipped Cream': {'Brand': 'Store', 'Department': 'Dairy', 'Price': 4.0},\n",
       " 'Spagahetti ': {'Brand': 'Store', 'Department': 'Shelves', 'Price': 2.0},\n",
       " 'Macaronni ': {'Brand': 'Store', 'Department': 'Shelves', 'Price': 2.5},\n",
       " 'Fetuchinni': {'Brand': 'Store', 'Department': 'Shelves', 'Price': 2.5},\n",
       " 'Penne': {'Brand': 'Store', 'Department': 'Shelves', 'Price': 1.75},\n",
       " 'Cereal': {'Brand': 'Store', 'Department': 'Shelves', 'Price': 1.75}}"
      ]
     },
     "execution_count": 57,
     "metadata": {},
     "output_type": "execute_result"
    }
   ],
   "source": [
    "to_dictionary_v2(inventory_df)"
   ]
  },
  {
   "cell_type": "code",
   "execution_count": 1,
   "metadata": {},
   "outputs": [
    {
     "name": "stdout",
     "output_type": "stream",
     "text": [
      "Whats the nato phonetic word for s? seirra\n",
      "Well done!\n"
     ]
    }
   ],
   "source": [
    "# Simple dictonary\n",
    "import random\n",
    "\n",
    "nato_phonetic_alphabet = {'a': 'alfa',\n",
    "                         'b': 'bravo',\n",
    "                         'c': 'charlie',\n",
    "                         'd': 'delta',\n",
    "                         'e': 'echo',\n",
    "                         'f': 'foxtrot',\n",
    "                         'g': 'golf',\n",
    "                         'h': 'hotel',\n",
    "                         'i': 'india',\n",
    "                         'j': 'juliett',\n",
    "                         'k': 'kilo',\n",
    "                         'l': 'lima',\n",
    "                         'm': 'mike',\n",
    "                         'n': 'november',\n",
    "                         'o': 'oscar',\n",
    "                         'p': 'papa',\n",
    "                         'q': 'quebec',\n",
    "                         'r': 'romeo',\n",
    "                         's': 'seirra',\n",
    "                         't': 'tango',\n",
    "                         'u': 'uniform',\n",
    "                         'v': 'victor',\n",
    "                         'w': 'whiskey',\n",
    "                         'x': 'x-ray',\n",
    "                         'y': 'yankee',\n",
    "                         'z': 'zulu'}\n",
    "\n",
    "random_character = chr(random.randrange(26) + ord('a'))\n",
    "answer = input(f'Whats the nato phonetic word for {random_character}? ')\n",
    "correct_answer = nato_phonetic_alphabet[random_character]\n",
    "if correct_answer == answer.lower():\n",
    "    print(\"Well done!\")\n",
    "else: \n",
    "#     Todo: have the user try again until they get it write or type 'answer'\n",
    "    print(f'Wrong, it is \"{correct_answer}\"!')"
   ]
  },
  {
   "cell_type": "code",
   "execution_count": 129,
   "metadata": {},
   "outputs": [
    {
     "data": {
      "text/plain": [
       "{'Grocery store': {'Red Apple': {'quantity': 2, 'brand': 'organic'},\n",
       "  'Strawberry': {'quantity': 6, 'brand': 'store'},\n",
       "  'Shoes': {'type': 'sandals', 'brand': 'store', 'size': 6}},\n",
       " 'Craft store': {'Yarn': {'Color': 'pink'},\n",
       "  'Fabric': {'Type': 'cotton', 'Color': 'blue'}}}"
      ]
     },
     "execution_count": 129,
     "metadata": {},
     "output_type": "execute_result"
    }
   ],
   "source": [
    "# Nested complex dictionary\n",
    "grocery_list = {'Red Apple': {'quantity': 2,\n",
    "                             'brand': 'organic'},\n",
    "                'Strawberry': {'quantity': 6,\n",
    "                              'brand': 'store'},\n",
    "               'Shoes': {'type': 'sandals',\n",
    "                        'brand': 'store',\n",
    "                        'size': 6}}\n",
    "craft_store_list = {'Yarn': {'Color': 'pink'},\n",
    "                   'Fabric': {'Type': 'cotton',\n",
    "                             'Color': 'blue'},\n",
    "                   'Curbside Pickup?': True}\n",
    "shopping_list = {'Grocery store': grocery_list,\n",
    "                'Craft store': craft_store_list}\n",
    "shopping_list"
   ]
  },
  {
   "cell_type": "code",
   "execution_count": 127,
   "metadata": {},
   "outputs": [
    {
     "ename": "NameError",
     "evalue": "name 'shopping_list' is not defined",
     "output_type": "error",
     "traceback": [
      "\u001b[0;31m---------------------------------------------------------------------------\u001b[0m",
      "\u001b[0;31mNameError\u001b[0m                                 Traceback (most recent call last)",
      "\u001b[0;32m<ipython-input-127-cdfcd6abcd44>\u001b[0m in \u001b[0;36m<module>\u001b[0;34m\u001b[0m\n\u001b[0;32m----> 1\u001b[0;31m \u001b[0mshopping_list\u001b[0m\u001b[0;34m\u001b[0m\u001b[0m\n\u001b[0m",
      "\u001b[0;31mNameError\u001b[0m: name 'shopping_list' is not defined"
     ]
    }
   ],
   "source": []
  },
  {
   "cell_type": "code",
   "execution_count": null,
   "metadata": {},
   "outputs": [],
   "source": []
  }
 ],
 "metadata": {
  "kernelspec": {
   "display_name": "Python 3",
   "language": "python",
   "name": "python3"
  },
  "language_info": {
   "codemirror_mode": {
    "name": "ipython",
    "version": 3
   },
   "file_extension": ".py",
   "mimetype": "text/x-python",
   "name": "python",
   "nbconvert_exporter": "python",
   "pygments_lexer": "ipython3",
   "version": "3.6.10"
  }
 },
 "nbformat": 4,
 "nbformat_minor": 4
}
