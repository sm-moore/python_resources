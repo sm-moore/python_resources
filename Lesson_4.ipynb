{
 "cells": [
  {
   "cell_type": "markdown",
   "metadata": {},
   "source": [
    "### Dictionaries\n",
    "In the following cell we are creating a quiz that asks the user to guess the nano phonetic word for a random character. If they are correct it says \"Well done!\" if they are wrong it tells them the correct answer.\n",
    "\n",
    "1. Modify this to ask the user to try again until they get it right or they type 'answer' in which case give them the correct answer.\n",
    "2. Modify this to read the phonetic alphabet from a csv or a json file instead of being defined in the code. This will make it harder to cheat."
   ]
  },
  {
   "cell_type": "code",
   "execution_count": null,
   "metadata": {},
   "outputs": [],
   "source": [
    "import random\n",
    "\n",
    "nato_phonetic_alphabet = {'a': 'alfa',\n",
    "                         'b': 'bravo',\n",
    "                         'c': 'charlie',\n",
    "                         'd': 'delta',\n",
    "                         'e': 'echo',\n",
    "                         'f': 'foxtrot',\n",
    "                         'g': 'golf',\n",
    "                         'h': 'hotel',\n",
    "                         'i': 'india',\n",
    "                         'j': 'juliett',\n",
    "                         'k': 'kilo',\n",
    "                         'l': 'lima',\n",
    "                         'm': 'mike',\n",
    "                         'n': 'november',\n",
    "                         'o': 'oscar',\n",
    "                         'p': 'papa',\n",
    "                         'q': 'quebec',\n",
    "                         'r': 'romeo',\n",
    "                         's': 'seirra',\n",
    "                         't': 'tango',\n",
    "                         'u': 'uniform',\n",
    "                         'v': 'victor',\n",
    "                         'w': 'whiskey',\n",
    "                         'x': 'x-ray',\n",
    "                         'y': 'yankee',\n",
    "                         'z': 'zulu'}\n",
    "\n",
    "# You've likely never seen any of these functions before so let's talk about them a little. \n",
    "# random.randrange(26) gives a random number between [0, 26). \n",
    "# \n",
    "# ord('a') requires a bit of background to explain. Every symbol or character on your keyboard secretly maps to a\n",
    "# number called an ASCII value see http://www.asciitable.com/ for all of these values. You know how computers really\n",
    "# only speak 0's and 1's (circut on, circut off)? These 0's and 1's get combined in sequences to represent numbers\n",
    "# this is called binary, you probably already know about this too. Simply put, ASCII is just a way to convert those\n",
    "# 0's and 1's (which chain together to form larger numbers) into characters.\n",
    "# ord('a') returns 97 which is the ascii value for 'a' (see the chart.)\n",
    "#\n",
    "# so in all, random_ascii_number is a random number between [97, 122] (the ascii numbers for a and z).\n",
    "random_ascii_number = random.randrange(26) + ord('a')\n",
    "\n",
    "# You might have guessed that the chr() function takes in a number and returns the character according to the\n",
    "# ascii table. chr(97) -> 'a', chr(98) -> 'b', and so on.\n",
    "random_character = chr(random_ascii_number)\n",
    "\n",
    "answer = input(f'Whats the nato phonetic word for {random_character}? ')\n",
    "correct_answer = nato_phonetic_alphabet[random_character]\n",
    "# using answer.lower() just ensures that if our user uses different caseing, it won't matter.\n",
    "if correct_answer == answer.lower():\n",
    "    print(\"Well done!\")\n",
    "else:\n",
    "    print(f'Wrong, it is \"{correct_answer}\"!')"
   ]
  },
  {
   "cell_type": "code",
   "execution_count": null,
   "metadata": {},
   "outputs": [],
   "source": [
    "# Different ways to represent a grocery list and how to get the quantity of apples desired. They all have their \n",
    "# trade-offs and I wouldn't say that one is better than the others it really just depends on your use-case. I tend\n",
    "# to prefer v3 if I don't have a strong reason to use one of the other versions because accesing\n",
    "# things is easier and faster since you don't have to loop through a list.\n",
    "\n",
    "# List of Tuples\n",
    "grocery_list = [('apple', 5), ('orange', 2)]\n",
    "for item, quantity in grocery_list:\n",
    "    if item == 'apple':\n",
    "        print(f'Quantity using tuples: {quantity}')\n",
    "\n",
    "# List of Dictionaries\n",
    "grocery_list_v2 = [{'name': 'apple', 'quantity': 5},\n",
    "                   {'name': 'orange', 'quantity': 2}]\n",
    "\n",
    "\n",
    "for item in grocery_list_v2:\n",
    "    if item['name'] == 'apple':\n",
    "        quantity = item['quantity']\n",
    "        print(f'Quantity using a list of dictionaries: {quantity}')\n",
    "\n",
    "\n",
    "# Nested Dictionaries\n",
    "grocery_list_v3 = {'apple': {'quantity': 5,\n",
    "                             'brands': [{'name': 'store',\n",
    "                                         'year' : '1999'},\n",
    "                                        {'name': 'organic',\n",
    "                                         'year': '2004'}]},\n",
    "                   'orange': {'quantity': 2,\n",
    "                              'brand': 'organic'}}\n",
    "\n",
    "quantity = grocery_list_v3['apple']['quantity']\n",
    "print(f'Quantity using nested dictionaries: {quantity}')"
   ]
  },
  {
   "cell_type": "code",
   "execution_count": null,
   "metadata": {},
   "outputs": [],
   "source": [
    "# Dictionary keys must be unique! Watch what happens here...\n",
    "{'apple': 6,\n",
    "'pear': 7,\n",
    "'apple': 5}"
   ]
  },
  {
   "cell_type": "markdown",
   "metadata": {},
   "source": [
    "### Using Pandas DataFrames \n",
    "\n",
    "I would reccomend exploring the documentation, it can seem a bit scary but you'll get familar with it. https://pandas.pydata.org/pandas-docs/stable/reference/api/pandas.DataFrame.html"
   ]
  },
  {
   "cell_type": "code",
   "execution_count": null,
   "metadata": {},
   "outputs": [],
   "source": [
    "import pandas as pd\n",
    "\n",
    "# This creates a DataFrame from a csv. A DataFrame is essentially a table that you can do all sorts of cool things to\n",
    "# using the built in pandas functions.\n",
    "inventory_dataframe = pd.read_csv('Grocery Inventory.csv')\n",
    "inventory_dataframe"
   ]
  },
  {
   "cell_type": "code",
   "execution_count": null,
   "metadata": {},
   "outputs": [],
   "source": [
    "# For the first part of our project, we will be ignoring all of the 'Organic brands', so let's get rid of them\n",
    "# from the DataFrame.\n",
    "inventory_dataframe = inventory_dataframe.drop(inventory_dataframe[inventory_dataframe.Brand == 'Organic'].index)\n",
    "inventory_dataframe"
   ]
  },
  {
   "cell_type": "markdown",
   "metadata": {},
   "source": [
    "### Some challenges to try on your own:\n",
    "\n",
    "1. Fill out the function below which takes the users grocery order and outputs a more detailed list based on the inventory we read in above. You can have the function return the data in any format you would like. I've given you a template but you can modify it however you would like."
   ]
  },
  {
   "cell_type": "code",
   "execution_count": null,
   "metadata": {},
   "outputs": [],
   "source": [
    "def detailed_grocery_list(grocery_list):\n",
    "    # Start by ignoring inventory and just formatting grocery list\n",
    "    detailed_grocery_list = {}\n",
    "    for item, quantity in grocery_list:\n",
    "        detail = {'Brand': '',\n",
    "                  'Quantity Desired': quantity,\n",
    "                  'Cost Per Item': 0,\n",
    "                  'Department': ''}\n",
    "        # We didn't talk about how to add items to a dictionary yet, but this is how you do it.\n",
    "        # This will either add or update the detailed_grocery_list.\n",
    "        detailed_grocery_list[item] = detail\n",
    "    return detailed_grocery_list\n"
   ]
  },
  {
   "cell_type": "code",
   "execution_count": null,
   "metadata": {},
   "outputs": [],
   "source": [
    "grocery_list = [('Red Apple', 2),\n",
    "                ('Strawberry', 1),\n",
    "                ('Banana', 6),\n",
    "                ('Whole Wheat Bread', 1),\n",
    "                ('Tofu', 1),\n",
    "                ('Oat Milk', 2),\n",
    "                ('Spaghetti ', 1)]\n",
    "\n",
    "detailed_grocery_list(grocery_list)"
   ]
  },
  {
   "cell_type": "code",
   "execution_count": null,
   "metadata": {},
   "outputs": [],
   "source": []
  }
 ],
 "metadata": {
  "kernelspec": {
   "display_name": "Python 3",
   "language": "python",
   "name": "python3"
  },
  "language_info": {
   "codemirror_mode": {
    "name": "ipython",
    "version": 3
   },
   "file_extension": ".py",
   "mimetype": "text/x-python",
   "name": "python",
   "nbconvert_exporter": "python",
   "pygments_lexer": "ipython3",
   "version": "3.6.10"
  }
 },
 "nbformat": 4,
 "nbformat_minor": 4
}
